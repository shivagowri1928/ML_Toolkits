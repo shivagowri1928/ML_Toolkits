{
 "cells": [
  {
   "cell_type": "code",
   "execution_count": 118,
   "id": "6fcd4f82",
   "metadata": {},
   "outputs": [
    {
     "data": {
      "text/plain": [
       "<torch._C.Generator at 0x14abd2d1530>"
      ]
     },
     "execution_count": 118,
     "metadata": {},
     "output_type": "execute_result"
    }
   ],
   "source": [
    "import numpy as np\n",
    "import torch\n",
    "np.random.seed(1234)\n",
    "torch.manual_seed(1234)"
   ]
  },
  {
   "cell_type": "code",
   "execution_count": 119,
   "id": "a22cd263",
   "metadata": {},
   "outputs": [],
   "source": [
    "x = np.random.randn(2,3)"
   ]
  },
  {
   "cell_type": "code",
   "execution_count": 120,
   "id": "e11d1756",
   "metadata": {},
   "outputs": [
    {
     "name": "stdout",
     "output_type": "stream",
     "text": [
      "[[ 0.47143516 -1.19097569  1.43270697]\n",
      " [-0.3126519  -0.72058873  0.88716294]]\n"
     ]
    }
   ],
   "source": [
    "print(x)"
   ]
  },
  {
   "cell_type": "markdown",
   "id": "f921bf05",
   "metadata": {},
   "source": [
    "## Basics"
   ]
  },
  {
   "cell_type": "code",
   "execution_count": 121,
   "id": "26232be5",
   "metadata": {},
   "outputs": [
    {
     "name": "stdout",
     "output_type": "stream",
     "text": [
      "Type:torch.FloatTensor\n",
      "Size:torch.Size([2, 3])\n",
      "Values:\n",
      "tensor([[ 0.0461,  0.4024, -1.0115],\n",
      "        [ 0.2167, -0.6123,  0.5036]])\n"
     ]
    }
   ],
   "source": [
    "x = torch.randn(2,3)  # normal distribution (rand(2,3) -> uniform distribution)\n",
    "print(f\"Type:{x.type()}\")\n",
    "print(f\"Size:{x.shape}\")\n",
    "print(f\"Values:\\n{x}\")"
   ]
  },
  {
   "cell_type": "code",
   "execution_count": 122,
   "id": "60c74fcf",
   "metadata": {},
   "outputs": [
    {
     "name": "stdout",
     "output_type": "stream",
     "text": [
      "tensor([[0., 0., 0.],\n",
      "        [0., 0., 0.]])\n",
      "tensor([[1., 1., 1.],\n",
      "        [1., 1., 1.]])\n"
     ]
    }
   ],
   "source": [
    "x = torch.zeros(2,3)\n",
    "print(x)\n",
    "x= torch.ones(2,3)\n",
    "print(x)"
   ]
  },
  {
   "cell_type": "code",
   "execution_count": 123,
   "id": "0219247b",
   "metadata": {},
   "outputs": [
    {
     "name": "stdout",
     "output_type": "stream",
     "text": [
      "Size:torch.Size([2, 3])\n",
      "Values: \n",
      "tensor([[1., 2., 3.],\n",
      "        [4., 5., 6.]])\n"
     ]
    }
   ],
   "source": [
    "#list -> Tensor\n",
    "x = torch.Tensor([[1,2,3],[4,5,6]])\n",
    "print(f\"Size:{x.shape}\")\n",
    "print(f\"Values: \\n{x}\")"
   ]
  },
  {
   "cell_type": "code",
   "execution_count": 124,
   "id": "0f02d8ed",
   "metadata": {},
   "outputs": [
    {
     "name": "stdout",
     "output_type": "stream",
     "text": [
      "Size: torch.Size([2, 3])\n",
      "Values: \n",
      "tensor([[0.2765, 0.8019, 0.9581],\n",
      "        [0.8759, 0.3578, 0.5010]])\n"
     ]
    }
   ],
   "source": [
    "# Numpy array -> Tensor\n",
    "x = torch.Tensor(np.random.rand(2,3))\n",
    "print(f\"Size: {x.shape}\")\n",
    "print(f\"Values: \\n{x}\")"
   ]
  },
  {
   "cell_type": "code",
   "execution_count": 125,
   "id": "8dfa9fed",
   "metadata": {},
   "outputs": [
    {
     "name": "stdout",
     "output_type": "stream",
     "text": [
      "Type: torch.FloatTensor\n",
      "Type: torch.LongTensor\n"
     ]
    }
   ],
   "source": [
    "#Changing tensor type\n",
    "x = torch.Tensor(3,4)\n",
    "print(f\"Type: {x.type()}\")\n",
    "x = x.long()\n",
    "print(f\"Type: {x.type()}\")"
   ]
  },
  {
   "cell_type": "markdown",
   "id": "90b32367",
   "metadata": {},
   "source": [
    "## Operations"
   ]
  },
  {
   "cell_type": "code",
   "execution_count": 126,
   "id": "91e9ea64",
   "metadata": {},
   "outputs": [
    {
     "name": "stdout",
     "output_type": "stream",
     "text": [
      "Size: torch.Size([2, 3])\n",
      "Values: \n",
      "tensor([[ 0.0761, -0.6775, -0.3988],\n",
      "        [ 3.0633, -0.1589,  0.3514]])\n"
     ]
    }
   ],
   "source": [
    "#Addition\n",
    "x = torch.randn(2,3)\n",
    "y = torch.randn(2,3)\n",
    "z = x+y\n",
    "print(f\"Size: {z.shape}\")\n",
    "print(f\"Values: \\n{z}\")\n"
   ]
  },
  {
   "cell_type": "code",
   "execution_count": 127,
   "id": "885df673",
   "metadata": {},
   "outputs": [
    {
     "name": "stdout",
     "output_type": "stream",
     "text": [
      "Size: torch.Size([2, 2])\n",
      "Values: \n",
      "tensor([[ 1.0796, -0.0759],\n",
      "        [ 1.2746, -0.5134]])\n"
     ]
    }
   ],
   "source": [
    "x = torch.randn(2,3)\n",
    "y = torch.randn(3,2)\n",
    "z = torch.mm(x,y) # torch.t(x) for Transpose \n",
    "print(f\"Size: {z.shape}\")\n",
    "print(f\"Values: \\n{z}\")\n"
   ]
  },
  {
   "cell_type": "code",
   "execution_count": 128,
   "id": "70e92283",
   "metadata": {},
   "outputs": [
    {
     "name": "stdout",
     "output_type": "stream",
     "text": [
      "Size: torch.Size([3, 2])\n",
      "Values: \n",
      "tensor([[ 0.8042, -0.1383],\n",
      "        [ 0.3196, -1.0187],\n",
      "        [-1.3147,  2.5228]])\n"
     ]
    }
   ],
   "source": [
    "#Reshape\n",
    "x = torch.randn(2,3)\n",
    "z = x.view(3,2)\n",
    "print(f\"Size: {z.shape}\")\n",
    "print(f\"Values: \\n{z}\")"
   ]
  },
  {
   "cell_type": "code",
   "execution_count": 129,
   "id": "b50cf33b",
   "metadata": {},
   "outputs": [
    {
     "name": "stdout",
     "output_type": "stream",
     "text": [
      "Size: torch.Size([2, 3, 4])\n",
      "x: \n",
      "tensor([[[ 1,  1,  1,  1],\n",
      "         [ 2,  2,  2,  2],\n",
      "         [ 3,  3,  3,  3]],\n",
      "\n",
      "        [[10, 10, 10, 10],\n",
      "         [20, 20, 20, 20],\n",
      "         [30, 30, 30, 30]]])\n",
      "\n",
      "\n",
      "Size: torch.Size([3, 8])\n",
      "a: \n",
      "tensor([[ 1,  1,  1,  1,  2,  2,  2,  2],\n",
      "        [ 3,  3,  3,  3, 10, 10, 10, 10],\n",
      "        [20, 20, 20, 20, 30, 30, 30, 30]])\n",
      "\n",
      "\n",
      "Size: torch.Size([3, 2, 4])\n",
      "b: \n",
      "tensor([[[ 1,  1,  1,  1],\n",
      "         [10, 10, 10, 10]],\n",
      "\n",
      "        [[ 2,  2,  2,  2],\n",
      "         [20, 20, 20, 20]],\n",
      "\n",
      "        [[ 3,  3,  3,  3],\n",
      "         [30, 30, 30, 30]]])\n",
      "\n",
      "\n",
      "Size: torch.Size([2, 12])\n",
      "c: \n",
      "tensor([[ 1,  1,  1,  1, 10, 10, 10, 10,  2,  2,  2,  2],\n",
      "        [20, 20, 20, 20,  3,  3,  3,  3, 30, 30, 30, 30]])\n"
     ]
    }
   ],
   "source": [
    "x = torch.tensor([\n",
    "    [[1,1,1,1], [2,2,2,2], [3,3,3,3]],\n",
    "    [[10,10,10,10], [20,20,20,20], [30,30,30,30]]\n",
    "])\n",
    "print(f\"Size: {x.shape}\")\n",
    "print(f\"x: \\n{x}\\n\")\n",
    "\n",
    "a = x.view(x.size(1), -1)\n",
    "print(f\"\\nSize: {a.shape}\")\n",
    "print(f\"a: \\n{a}\\n\")\n",
    "\n",
    "b = x.transpose(0,1).contiguous()\n",
    "print(f\"\\nSize: {b.shape}\")\n",
    "print(f\"b: \\n{b}\\n\")\n",
    "\n",
    "c = b.view(b.size(1), -1)\n",
    "print(f\"\\nSize: {c.shape}\")\n",
    "print(f\"c: \\n{c}\")\n",
    "\n",
    "\n"
   ]
  },
  {
   "cell_type": "code",
   "execution_count": 130,
   "id": "00b12c73",
   "metadata": {},
   "outputs": [
    {
     "name": "stdout",
     "output_type": "stream",
     "text": [
      "Values: \n",
      "tensor([[ 0.4501,  0.2709, -0.8087],\n",
      "        [-0.0217, -1.0413,  0.0702]])\n",
      "Values: \n",
      "tensor([ 0.4284, -0.7704, -0.7385])\n",
      "Values: \n",
      "tensor([-0.0877, -0.9928])\n"
     ]
    }
   ],
   "source": [
    "#Dimensional operations\n",
    "x = torch.randn(2,3)\n",
    "print(f\"Values: \\n{x}\")\n",
    "y = torch.sum(x, dim=0)\n",
    "print(f\"Values: \\n{y}\")\n",
    "z = torch.sum(x, dim=1) # add each columns's value for every row\n",
    "print(f\"Values: \\n{z}\")"
   ]
  },
  {
   "cell_type": "code",
   "execution_count": 136,
   "id": "da25d780",
   "metadata": {},
   "outputs": [
    {
     "name": "stdout",
     "output_type": "stream",
     "text": [
      "Values: \n",
      "tensor([[ 1.4696, -1.3284,  1.9946, -0.8209],\n",
      "        [ 1.0061, -1.0664, -0.4572,  0.0901],\n",
      "        [ 0.4018, -1.1542,  0.1192, -0.7348]])\n",
      "Values: \n",
      "tensor([[ 1.4696, -1.3284,  1.9946, -0.8209],\n",
      "        [ 0.4018, -1.1542,  0.1192, -0.7348]])\n",
      "Values: \n",
      "tensor([[ 1.4696,  1.9946],\n",
      "        [ 1.0061, -0.4572],\n",
      "        [ 0.4018,  0.1192]])\n",
      "Values: \n",
      "tensor([ 1.4696, -0.4572])\n"
     ]
    }
   ],
   "source": [
    "x = torch.randn(3,4)\n",
    "print(f\"Values: \\n{x}\")\n",
    "\n",
    "indices = torch.LongTensor([0,2])\n",
    "chosen1 = torch.index_select(x, dim=0, index=indices) # rows\n",
    "chosen2 = torch.index_select(x, dim=1, index=indices) # colums\n",
    "print(f\"Values: \\n{chosen1}\")\n",
    "print(f\"Values: \\n{chosen2}\")\n",
    "\n",
    "row_indices = torch.LongTensor([0,1])\n",
    "col_indices = torch.LongTensor([0,2])\n",
    "chosen = x[row_indices, col_indices] # values from (0, 0) & (1, 2)\n",
    "print(f\"Values: \\n{chosen}\")\n"
   ]
  },
  {
   "cell_type": "code",
   "execution_count": 137,
   "id": "3df46c98",
   "metadata": {},
   "outputs": [
    {
     "name": "stdout",
     "output_type": "stream",
     "text": [
      "tensor([[-1.5864, -0.2671,  2.6874],\n",
      "        [-0.4633,  0.6639,  0.2383]])\n",
      "torch.Size([2, 3])\n"
     ]
    }
   ],
   "source": [
    "x = torch.randn(2,3)\n",
    "print(x)\n",
    "print(x.shape)"
   ]
  },
  {
   "cell_type": "code",
   "execution_count": 146,
   "id": "8b2b00db",
   "metadata": {},
   "outputs": [
    {
     "name": "stdout",
     "output_type": "stream",
     "text": [
      "tensor([[-1.5864, -0.2671,  2.6874, -1.5864, -0.2671,  2.6874],\n",
      "        [-0.4633,  0.6639,  0.2383, -0.4633,  0.6639,  0.2383]])\n",
      "torch.Size([2, 6])\n"
     ]
    }
   ],
   "source": [
    "#Concatenation\n",
    "y = torch.cat([x,x], dim=1)\n",
    "print(y)\n",
    "print(y.shape)"
   ]
  },
  {
   "cell_type": "code",
   "execution_count": 149,
   "id": "13d28048",
   "metadata": {},
   "outputs": [
    {
     "name": "stdout",
     "output_type": "stream",
     "text": [
      "tensor([[[-1.5864, -0.2671,  2.6874],\n",
      "         [-1.5864, -0.2671,  2.6874]],\n",
      "\n",
      "        [[-0.4633,  0.6639,  0.2383],\n",
      "         [-0.4633,  0.6639,  0.2383]]])\n",
      "torch.Size([2, 2, 3])\n"
     ]
    }
   ],
   "source": [
    "#Stacking\n",
    "z = torch.stack([x,x], dim=1)\n",
    "print(z)\n",
    "print(z.shape)"
   ]
  },
  {
   "cell_type": "code",
   "execution_count": 163,
   "id": "fe34599f",
   "metadata": {},
   "outputs": [
    {
     "name": "stdout",
     "output_type": "stream",
     "text": [
      "x: \n",
      "tensor([[ 1.9117,  1.9975,  0.2659,  0.7959],\n",
      "        [-0.4948,  1.4177,  1.1192,  0.4914],\n",
      "        [ 0.8575, -0.4515,  0.7116, -0.7046]], requires_grad=True)\n",
      "x.grad: \n",
      "tensor([[0.2500, 0.2500, 0.2500, 0.2500],\n",
      "        [0.2500, 0.2500, 0.2500, 0.2500],\n",
      "        [0.2500, 0.2500, 0.2500, 0.2500]])\n"
     ]
    }
   ],
   "source": [
    "x= torch.randn(3,4, requires_grad=True)\n",
    "y = 3*x + 2\n",
    "z = y.mean()\n",
    "z.backward()\n",
    "print(f\"x: \\n{x}\")\n",
    "print(f\"x.grad: \\n{x.grad}\")\n",
    "\n"
   ]
  },
  {
   "cell_type": "code",
   "execution_count": 164,
   "id": "57f30b69",
   "metadata": {},
   "outputs": [
    {
     "name": "stdout",
     "output_type": "stream",
     "text": [
      "False\n"
     ]
    }
   ],
   "source": [
    "print(torch.cuda.is_available())"
   ]
  },
  {
   "cell_type": "code",
   "execution_count": null,
   "id": "2c7a801d",
   "metadata": {},
   "outputs": [],
   "source": []
  },
  {
   "cell_type": "code",
   "execution_count": null,
   "id": "2fc0f2ba",
   "metadata": {},
   "outputs": [],
   "source": []
  },
  {
   "cell_type": "code",
   "execution_count": null,
   "id": "0d4d9c2b",
   "metadata": {},
   "outputs": [],
   "source": []
  },
  {
   "cell_type": "code",
   "execution_count": null,
   "id": "0d588d83",
   "metadata": {},
   "outputs": [],
   "source": []
  }
 ],
 "metadata": {
  "kernelspec": {
   "display_name": "Python 3 (ipykernel)",
   "language": "python",
   "name": "python3"
  },
  "language_info": {
   "codemirror_mode": {
    "name": "ipython",
    "version": 3
   },
   "file_extension": ".py",
   "mimetype": "text/x-python",
   "name": "python",
   "nbconvert_exporter": "python",
   "pygments_lexer": "ipython3",
   "version": "3.8.12"
  }
 },
 "nbformat": 4,
 "nbformat_minor": 5
}
